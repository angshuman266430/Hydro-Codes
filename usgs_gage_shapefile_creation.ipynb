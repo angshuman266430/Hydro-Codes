{
 "cells": [
  {
   "cell_type": "markdown",
   "id": "6800e043",
   "metadata": {},
   "source": [
    "## Create USGS Gage Shapefile\n",
    "\n",
    "This notebook provides a method to create a shapefile for a USGS gage using provided metadata and a given projection system."
   ]
  },
  {
   "cell_type": "code",
   "execution_count": 31,
   "id": "a2457a28",
   "metadata": {},
   "outputs": [],
   "source": [
    "# Import necessary libraries\n",
    "import os\n",
    "import geopandas as gpd\n",
    "from shapely.geometry import Point, mapping\n",
    "import fiona\n",
    "from fiona.crs import from_string"
   ]
  },
  {
   "cell_type": "markdown",
   "id": "5043ab98",
   "metadata": {},
   "source": [
    "### Function to Create the Shapefile"
   ]
  },
  {
   "cell_type": "code",
   "execution_count": 32,
   "id": "01d14cf0",
   "metadata": {},
   "outputs": [],
   "source": [
    "def create_usgs_gage_shapefile_with_fiona(prj_file_path, output_shapefile_path):\n",
    "    # Read the projection system from the provided .prj file\n",
    "    with open(prj_file_path, 'r') as file:\n",
    "        projection_system = file.read()\n",
    "\n",
    "    # Define the latitude and longitude\n",
    "    latitude = 29.67555556\n",
    "    longitude = -94.6661139\n",
    "\n",
    "    # Create a GeoDataFrame using the provided decimal latitude and longitude\n",
    "    # Initially, we'll use a basic WGS84 CRS\n",
    "    geometry = [Point(longitude, latitude)]\n",
    "    df = gpd.GeoDataFrame(\n",
    "        {\n",
    "            'Agency': ['U.S. Geological Survey'],\n",
    "            'Site_ID': ['08042558'],\n",
    "            'Site_name': ['W Fk Double Bayou at Eagle Ferry Rd nr Anahuac, TX'],\n",
    "            'Site_type': ['Stream'],\n",
    "            'District': ['Texas'],\n",
    "            'State': ['Texas'],\n",
    "            'County': ['Chambers County'],\n",
    "            'Country': ['US'],\n",
    "            'Subbasin': ['12040202'],\n",
    "            'Date_site': ['20060509'],\n",
    "            'Drain_area': [22.2],\n",
    "            'Contrib_DA': [22.2],\n",
    "            'ProjectNo': ['8653-9VR11'],\n",
    "            'Latitude': [latitude],\n",
    "            'Longitude': [longitude]\n",
    "        },\n",
    "        geometry=geometry,\n",
    "        crs=\"EPSG:4326\"  # WGS84 CRS\n",
    "    )\n",
    "\n",
    "    # Reproject the GeoDataFrame to the CRS from the .prj file\n",
    "    df = df.to_crs(projection_system)\n",
    "\n",
    "    # Define the metadata\n",
    "    meta = {\n",
    "        'crs': from_string(projection_system),\n",
    "        'schema': {\n",
    "            'geometry': 'Point',\n",
    "            'properties': {col: 'str' for col in df.columns if col != 'geometry'}\n",
    "        },\n",
    "        'driver': 'ESRI Shapefile'\n",
    "    }\n",
    "\n",
    "    # Use fiona to write the shapefile\n",
    "    with fiona.open(output_shapefile_path, 'w', **meta) as sink:\n",
    "        for _, row in df.iterrows():\n",
    "            sink.write({\n",
    "                'geometry': mapping(row['geometry']),\n",
    "                'properties': {col: row[col] for col in df.columns if col != 'geometry'}\n",
    "            })\n"
   ]
  },
  {
   "cell_type": "markdown",
   "id": "fff186c6",
   "metadata": {},
   "source": [
    "### Usage"
   ]
  },
  {
   "cell_type": "code",
   "execution_count": 33,
   "id": "73576bfe",
   "metadata": {},
   "outputs": [
    {
     "name": "stderr",
     "output_type": "stream",
     "text": [
      "C:\\Users\\asaharia\\AppData\\Local\\Temp\\ipykernel_6848\\1898180662.py:8: FionaDeprecationWarning: This function will be removed in version 2.0. Please use CRS.from_string() instead.\n",
      "  create_usgs_gage_shapefile_with_fiona(prj_file_path, output_shapefile_path)\n"
     ]
    }
   ],
   "source": [
    "\n",
    "# Provide the path to your .prj file\n",
    "prj_file_path = r\"Z:\\\\GLO\\\\GLO_Task\\\\Gage_Shapefile\\\\NAD_1983_TCMS_Albers_FtUS.prj\"\n",
    "\n",
    "# Set the output path for the shapefile in the same directory as the .prj file\n",
    "output_directory = os.path.dirname(prj_file_path)\n",
    "output_shapefile_path = os.path.join(output_directory, \"USGS_gage_08042558.shp\")\n",
    "\n",
    "create_usgs_gage_shapefile_with_fiona(prj_file_path, output_shapefile_path)\n"
   ]
  },
  {
   "cell_type": "code",
   "execution_count": null,
   "id": "6b5f7cac",
   "metadata": {},
   "outputs": [],
   "source": []
  }
 ],
 "metadata": {
  "kernelspec": {
   "display_name": "Python 3 (ipykernel)",
   "language": "python",
   "name": "python3"
  },
  "language_info": {
   "codemirror_mode": {
    "name": "ipython",
    "version": 3
   },
   "file_extension": ".py",
   "mimetype": "text/x-python",
   "name": "python",
   "nbconvert_exporter": "python",
   "pygments_lexer": "ipython3",
   "version": "3.9.13"
  }
 },
 "nbformat": 4,
 "nbformat_minor": 5
}
